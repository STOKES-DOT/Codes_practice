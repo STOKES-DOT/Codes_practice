{
 "cells": [
  {
   "cell_type": "code",
   "execution_count": 29,
   "id": "c1606c65",
   "metadata": {},
   "outputs": [],
   "source": [
    "import torch\n",
    "import torch.nn as nn\n",
    "import torch.optim as optim\n",
    "from torch.utils.data import DataLoader, TensorDataset\n",
    "import numpy as np"
   ]
  },
  {
   "cell_type": "code",
   "execution_count": 30,
   "id": "6e9fd55c",
   "metadata": {},
   "outputs": [],
   "source": [
    "class LSMT(nn.Module):\n",
    "    def __init__(self, input_size, hidden_size, output_size):\n",
    "        super(LSMT, self).__init__()\n",
    "        self.LSMT = nn.LSTM(input_size, hidden_size, batch_first=True)\n",
    "        self.fc = nn.Linear(hidden_size, output_size)\n",
    "\n",
    "    def forward(self, x):\n",
    "        out, _ = self.LSMT(x)\n",
    "        out = self.fc(out[:, -1, :])\n",
    "        return out"
   ]
  },
  {
   "cell_type": "code",
   "execution_count": null,
   "id": "bd00ddae",
   "metadata": {},
   "outputs": [
    {
     "name": "stdout",
     "output_type": "stream",
     "text": [
      "Epoch [1/100], Loss: 0.0963\n"
     ]
    }
   ],
   "source": [
    "num_samples = 5000\n",
    "sequence_length = 100\n",
    "input_size = 100\n",
    "hidden_size = 32\n",
    "output_size = 1\n",
    "\n",
    "# Generate synthetic data\n",
    "data = np.random.rand(num_samples, sequence_length, input_size)\n",
    "labels = np.random.rand(num_samples, output_size)\n",
    "\n",
    "# Convert data to PyTorch tensors\n",
    "data_tensor = torch.tensor(data, dtype=torch.float32)\n",
    "labels_tensor = torch.tensor(labels, dtype=torch.float32)\n",
    "\n",
    "# Create DataLoader\n",
    "dataset = TensorDataset(data_tensor, labels_tensor)\n",
    "dataloader = DataLoader(dataset, batch_size=32, shuffle=True)\n",
    "\n",
    "# Create RNN model\n",
    "model = LSMT(input_size, hidden_size, output_size)\n",
    "\n",
    "# Define loss function and optimizer\n",
    "criterion = nn.MSELoss()\n",
    "optimizer = optim.Adam(model.parameters(), lr=0.01)\n",
    "\n",
    "# Training loop\n",
    "num_epochs = 100\n",
    "for epoch in range(num_epochs):\n",
    "    for i, (inputs, labels) in enumerate(dataloader):\n",
    "        optimizer.zero_grad()\n",
    "        outputs = model(inputs)\n",
    "        loss = criterion(outputs, labels)\n",
    "        loss.backward()\n",
    "        optimizer.step()\n",
    "\n",
    "    print(f\"Epoch [{epoch+1}/{num_epochs}], Loss: {loss.item():.4f}\")"
   ]
  },
  {
   "cell_type": "code",
   "execution_count": null,
   "id": "d09f414f",
   "metadata": {},
   "outputs": [
    {
     "name": "stdout",
     "output_type": "stream",
     "text": [
      "Total error: 4.9826\n",
      "Number of correct predictions: 0\n",
      "Accuracy: 0.0000\n"
     ]
    }
   ],
   "source": [
    "# Evaluation\n",
    "with torch.no_grad():\n",
    "    tot_error = 0\n",
    "    num_correct = 0\n",
    "    model.eval()\n",
    "    for inputs, labels in dataloader:\n",
    "        outputs = model(inputs)\n",
    "        tot_error += criterion(outputs, labels).item()\n",
    "        num_correct += (outputs.round() == labels).sum().item()\n",
    "    print(f\"Total error: {tot_error:.4f}\")\n",
    "    print(f\"Number of correct predictions: {num_correct}\")\n",
    "    print(f\"Accuracy: {num_correct / len(dataset):.4f}\")"
   ]
  }
 ],
 "metadata": {
  "kernelspec": {
   "display_name": "base",
   "language": "python",
   "name": "python3"
  },
  "language_info": {
   "codemirror_mode": {
    "name": "ipython",
    "version": 3
   },
   "file_extension": ".py",
   "mimetype": "text/x-python",
   "name": "python",
   "nbconvert_exporter": "python",
   "pygments_lexer": "ipython3",
   "version": "3.13.5"
  }
 },
 "nbformat": 4,
 "nbformat_minor": 5
}
