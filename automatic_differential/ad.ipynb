{
 "cells": [
  {
   "cell_type": "markdown",
   "metadata": {},
   "source": [
    "## Automatic Differentiation\n",
    "\n",
    "This is a simple implementation of automatic differentiation in Python. It is based on the chain rule and supports both scalar and vector functions. The code is well-documented and easy to understand. We will use this implementation to derive the gradient of a scalar function $\\psi(x,y)$ with respect to $x$ and $y$ in schrodinger equation to get the best potential curve for a given Hamiltonian."
   ]
  },
  {
   "cell_type": "code",
   "execution_count": 12,
   "metadata": {},
   "outputs": [],
   "source": [
    "import jax\n",
    "import jax.numpy as jnp\n",
    "from jax import grad, jacfwd, jacrev\n",
    "import matplotlib.pyplot as plt\n",
    "import os\n",
    "os.environ[\"JAX_DISABLE_JIT\"]=\"1\"\n",
    "os.environ[\"ENABLE_PJRT_COMPATIBILITY\"]=\"1\""
   ]
  },
  {
   "cell_type": "code",
   "execution_count": 13,
   "metadata": {},
   "outputs": [
    {
     "ename": "XlaRuntimeError",
     "evalue": "UNIMPLEMENTED: default_memory_space is not supported.",
     "output_type": "error",
     "traceback": [
      "\u001b[0;31m---------------------------------------------------------------------------\u001b[0m",
      "\u001b[0;31mXlaRuntimeError\u001b[0m                           Traceback (most recent call last)",
      "Cell \u001b[0;32mIn[13], line 2\u001b[0m\n\u001b[1;32m      1\u001b[0m grad_tanh \u001b[38;5;241m=\u001b[39m grad(jnp\u001b[38;5;241m.\u001b[39mtanh)\n\u001b[0;32m----> 2\u001b[0m \u001b[38;5;28mprint\u001b[39m(grad_tanh(\u001b[38;5;241m0.5\u001b[39m))\n",
      "    \u001b[0;31m[... skipping hidden 44 frame]\u001b[0m\n",
      "File \u001b[0;32m/opt/anaconda3/lib/python3.12/site-packages/jax/_src/interpreters/pxla.py:244\u001b[0m, in \u001b[0;36mbatched_device_put\u001b[0;34m(aval, sharding, xs, devices, committed)\u001b[0m\n\u001b[1;32m    241\u001b[0m   \u001b[38;5;28;01mif\u001b[39;00m \u001b[38;5;28mlen\u001b[39m(bufs) \u001b[38;5;241m==\u001b[39m \u001b[38;5;28mlen\u001b[39m(xs) \u001b[38;5;241m>\u001b[39m \u001b[38;5;241m0\u001b[39m:\n\u001b[1;32m    242\u001b[0m     \u001b[38;5;28;01mreturn\u001b[39;00m array\u001b[38;5;241m.\u001b[39mArrayImpl(\n\u001b[1;32m    243\u001b[0m         aval, sharding, bufs, committed\u001b[38;5;241m=\u001b[39mcommitted, _skip_checks\u001b[38;5;241m=\u001b[39m\u001b[38;5;28;01mTrue\u001b[39;00m)\n\u001b[0;32m--> 244\u001b[0m   \u001b[38;5;28;01mreturn\u001b[39;00m xc\u001b[38;5;241m.\u001b[39mbatched_device_put(aval, sharding, xs, \u001b[38;5;28mlist\u001b[39m(devices), committed)\n\u001b[1;32m    245\u001b[0m \u001b[38;5;28;01mfinally\u001b[39;00m:\n\u001b[1;32m    246\u001b[0m   util\u001b[38;5;241m.\u001b[39mtest_event(\u001b[38;5;124m\"\u001b[39m\u001b[38;5;124mbatched_device_put_end\u001b[39m\u001b[38;5;124m\"\u001b[39m)\n",
      "\u001b[0;31mXlaRuntimeError\u001b[0m: UNIMPLEMENTED: default_memory_space is not supported."
     ]
    }
   ],
   "source": [
    "grad_tanh = grad(jnp.tanh)\n",
    "print(grad_tanh(0.5)) # 0.41997434161402603"
   ]
  }
 ],
 "metadata": {
  "kernelspec": {
   "display_name": "base",
   "language": "python",
   "name": "python3"
  },
  "language_info": {
   "codemirror_mode": {
    "name": "ipython",
    "version": 3
   },
   "file_extension": ".py",
   "mimetype": "text/x-python",
   "name": "python",
   "nbconvert_exporter": "python",
   "pygments_lexer": "ipython3",
   "version": "3.12.2"
  }
 },
 "nbformat": 4,
 "nbformat_minor": 2
}
