{
 "cells": [
  {
   "cell_type": "markdown",
   "metadata": {},
   "source": [
    "##Convolutional Neural Networks, CNN\n",
    "\n",
    "Here is the code for a simple CNN model using Torch. The model is a simple CNN with 2 convolutional layers and 2 fully connected layers. The input to the model is an image of size 28x28. The output is a probability distribution over the 10 classes (0-9).YOU CAN EDIT THE CODE HERE AND RUN IT."
   ]
  },
  {
   "cell_type": "code",
   "execution_count": 35,
   "metadata": {},
   "outputs": [
    {
     "name": "stdout",
     "output_type": "stream",
     "text": [
      "(50000, 32, 32, 3)\n",
      "(50000, 1)\n"
     ]
    }
   ],
   "source": [
    "import torch\n",
    "import torch.nn as nn\n",
    "import torch.nn.functional as F\n",
    "from keras.datasets import cifar10\n",
    "import matplotlib.pyplot as plt\n",
    "from torch import optim\n",
    "\n",
    "(X, y), (X_test, y_test) = cifar10.load_data()\n",
    "print(X.shape)\n",
    "print(y.shape)"
   ]
  },
  {
   "cell_type": "code",
   "execution_count": 36,
   "metadata": {},
   "outputs": [
    {
     "name": "stdout",
     "output_type": "stream",
     "text": [
      "cnn(\n",
      "  (conv1): Conv2d(3, 32, kernel_size=(3, 3), stride=(1, 1))\n",
      "  (conv2): Conv2d(32, 64, kernel_size=(3, 3), stride=(1, 1))\n",
      "  (fc1): Linear(in_features=12544, out_features=128, bias=True)\n",
      "  (fc2): Linear(in_features=128, out_features=10, bias=True)\n",
      ")\n"
     ]
    }
   ],
   "source": [
    "class cnn(nn.Module):\n",
    "    def __init__(self):\n",
    "        super().__init__()\n",
    "        self.conv1 = nn.Conv2d(3, 32, 3, 1)\n",
    "        self.conv2 = nn.Conv2d(32, 64, 3, 1)\n",
    "        self.fc1 = nn.Linear(14*14*64, 128)\n",
    "        self.fc2 = nn.Linear(128, 10)\n",
    "\n",
    "    def forward(self, x):\n",
    "        x = self.conv1(x)\n",
    "        x = F.relu(x)\n",
    "        x = self.conv2(x)\n",
    "        x = F.relu(x)\n",
    "        x = F.max_pool2d(x, 2)\n",
    "        x = torch.flatten(x, 1)\n",
    "        x = self.fc1(x)\n",
    "        x = F.relu(x)\n",
    "        x = self.fc2(x)\n",
    "        output = F.log_softmax(x, dim=1)\n",
    "        return output\n",
    "\n",
    "model = cnn()\n",
    "print(model)\n",
    "\n",
    "optimizer = optim.Adam(model.parameters(), lr=0.001)\n",
    "loss_fn = nn.CrossEntropyLoss()\n"
   ]
  },
  {
   "cell_type": "code",
   "execution_count": 37,
   "metadata": {},
   "outputs": [
    {
     "name": "stdout",
     "output_type": "stream",
     "text": [
      "Epoch 1/100, Loss: 1.682572841644287\n",
      "Epoch 2/100, Loss: 1.3635541200637817\n",
      "Epoch 3/100, Loss: 1.0399550199508667\n",
      "Epoch 4/100, Loss: 0.6847444176673889\n",
      "Epoch 5/100, Loss: 0.4319498538970947\n",
      "Epoch 6/100, Loss: 0.3128603994846344\n",
      "Epoch 7/100, Loss: 0.24467657506465912\n",
      "Epoch 8/100, Loss: 0.15108656883239746\n",
      "Epoch 9/100, Loss: 0.0796966701745987\n",
      "Epoch 10/100, Loss: 0.11901212483644485\n",
      "Epoch 11/100, Loss: 0.0063310349360108376\n",
      "Epoch 12/100, Loss: 0.03694687783718109\n",
      "Epoch 13/100, Loss: 0.2084621638059616\n",
      "Epoch 14/100, Loss: 0.009506597183644772\n",
      "Epoch 15/100, Loss: 0.5008289813995361\n",
      "Epoch 16/100, Loss: 0.04761370271444321\n",
      "Epoch 17/100, Loss: 0.021432219073176384\n",
      "Epoch 18/100, Loss: 0.019186336547136307\n",
      "Epoch 19/100, Loss: 0.008282305672764778\n",
      "Epoch 20/100, Loss: 0.0012299643130972981\n",
      "Epoch 21/100, Loss: 0.012971640564501286\n",
      "Epoch 22/100, Loss: 0.00022710053599439561\n",
      "Epoch 23/100, Loss: 0.0004891537828370929\n",
      "Epoch 24/100, Loss: 0.2243703156709671\n",
      "Epoch 25/100, Loss: 0.0009880574652925134\n",
      "Epoch 26/100, Loss: 0.0788411870598793\n",
      "Epoch 27/100, Loss: 0.002071283059194684\n",
      "Epoch 28/100, Loss: 0.009970514103770256\n",
      "Epoch 29/100, Loss: 0.0031914818100631237\n",
      "Epoch 30/100, Loss: 0.005311943590641022\n",
      "Epoch 31/100, Loss: 0.08113659173250198\n",
      "Epoch 32/100, Loss: 0.0018180592451244593\n",
      "Epoch 33/100, Loss: 0.0006742279510945082\n",
      "Epoch 34/100, Loss: 0.0017516902880743146\n",
      "Epoch 35/100, Loss: 0.00473987590521574\n",
      "Epoch 36/100, Loss: 0.00024136158754117787\n",
      "Epoch 37/100, Loss: 0.0001530036679469049\n",
      "Epoch 38/100, Loss: 0.008930260315537453\n",
      "Epoch 39/100, Loss: 0.0006007335032336414\n",
      "Epoch 40/100, Loss: 0.001306902151554823\n",
      "Epoch 41/100, Loss: 0.0010805507190525532\n",
      "Epoch 42/100, Loss: 4.8026620788732544e-05\n",
      "Epoch 43/100, Loss: 0.0006071461248211563\n",
      "Epoch 44/100, Loss: 0.0017081827390938997\n",
      "Epoch 45/100, Loss: 0.018464796245098114\n",
      "Epoch 46/100, Loss: 0.07569078356027603\n"
     ]
    }
   ],
   "source": [
    "epochs = 100\n",
    "for epoch in range(epochs):\n",
    "    model.train()\n",
    "    for i in range(0, len(X), 32):\n",
    "        batch_x = torch.tensor(X[i:i + 32], dtype=torch.float32).permute(0, 3, 1, 2) / 255.0\n",
    "        batch_y = torch.tensor(y[i:i + 32], dtype=torch.long).squeeze()\n",
    "\n",
    "        optimizer.zero_grad()\n",
    "        output = model(batch_x)\n",
    "        loss = loss_fn(output, batch_y)\n",
    "        #This a backward opreation just like what we did in the autograd code for calculating the potential form for a given wave function in Schrodinger equation\n",
    "        loss.backward()\n",
    "        optimizer.step()\n",
    "\n",
    "    print(f'Epoch {epoch + 1}/{epochs}, Loss: {loss.item()}')\n"
   ]
  },
  {
   "cell_type": "code",
   "execution_count": null,
   "metadata": {},
   "outputs": [],
   "source": [
    "correct = 0\n",
    "for i in range(0, len(X_test), 32):\n",
    "    batch_x = torch.tensor(X_test[i:i + 32], dtype=torch.float32).permute(0, 3, 1, 2) / 255.0\n",
    "    batch_y = torch.tensor(y_test[i:i + 32], dtype=torch.long).squeeze()\n",
    "\n",
    "    optimizer.zero_grad()\n",
    "    output = model(batch_x)\n",
    "    correct+= (output.argmax(1) == batch_y).sum().item()\n",
    "\n",
    "accuracy = correct / len(X_test)\n",
    "print(\"Accuracy:\", accuracy)"
   ]
  }
 ],
 "metadata": {
  "kernelspec": {
   "display_name": "Python 3",
   "language": "python",
   "name": "python3"
  },
  "language_info": {
   "codemirror_mode": {
    "name": "ipython",
    "version": 3
   },
   "file_extension": ".py",
   "mimetype": "text/x-python",
   "name": "python",
   "nbconvert_exporter": "python",
   "pygments_lexer": "ipython3",
   "version": "3.9.10"
  }
 },
 "nbformat": 4,
 "nbformat_minor": 2
}
